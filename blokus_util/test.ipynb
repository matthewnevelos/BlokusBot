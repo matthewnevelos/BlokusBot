{
 "cells": [
  {
   "cell_type": "code",
   "execution_count": 123,
   "metadata": {},
   "outputs": [],
   "source": [
    "import numpy as np\n",
    "import matplotlib.pyplot as plt\n",
    "from matplotlib.colors import LinearSegmentedColormap"
   ]
  },
  {
   "cell_type": "code",
   "execution_count": 170,
   "metadata": {},
   "outputs": [],
   "source": []
  },
  {
   "cell_type": "markdown",
   "metadata": {},
   "source": [
    "-1's = op tiles\\\n",
    "0's = empty tile\\\n",
    "1's = player tiles\\\n",
    "2's = possible tile"
   ]
  },
  {
   "cell_type": "code",
   "execution_count": 174,
   "metadata": {},
   "outputs": [],
   "source": [
    "def i2xy(i):\n",
    "    #i = index of array (0-143)\n",
    "    if i < 144:\n",
    "        x = i % 12\n",
    "        y = i // 12 \n",
    "        return x, y\n",
    "    else:\n",
    "        raise(IndexError(\"Index must be less than number of tiles\"))\n",
    "    \n",
    "def xy2i(x, y):\n",
    "    #x, y are coordinates of board (0-11)\n",
    "    if (0 <= x <= 11 and 0 <= y <= 11):\n",
    "        i = y * 12 + x\n",
    "        return i\n",
    "    else:\n",
    "        raise(IndexError(\"x and y must be in range (0-11)\"))"
   ]
  },
  {
   "cell_type": "code",
   "execution_count": null,
   "metadata": {},
   "outputs": [],
   "source": []
  },
  {
   "cell_type": "code",
   "execution_count": 212,
   "metadata": {},
   "outputs": [
    {
     "name": "stdout",
     "output_type": "stream",
     "text": [
      "[-1.  0. 10.]\n",
      "True\n"
     ]
    }
   ],
   "source": [
    "board = np.zeros(8*8)\n",
    "board[0]=-1\n",
    "board[1]=0\n",
    "board[2]=10\n",
    "board[3]=2\n",
    "# flat = board.flatten()\n",
    "x = board[[0,1,2]]\n",
    "print(x)\n",
    "if np.any(x == -1):\n",
    "    print(True)\n",
    "else:\n",
    "    print(False)"
   ]
  },
  {
   "cell_type": "code",
   "execution_count": null,
   "metadata": {},
   "outputs": [
    {
     "data": {
      "image/png": "[encoded data removed]",
      "text/plain": [
       "<Figure size 640x480 with 1 Axes>"
      ]
     },
     "metadata": {},
     "output_type": "display_data"
    }
   ],
   "source": [
    "cmap_colors = [\n",
    "    (0.0, 'black'),\n",
    "    (0.33, 'white'),\n",
    "    (0.66, 'yellow'),\n",
    "    (1.0, 'red')\n",
    "]\n",
    "\n",
    "custom_cmap = LinearSegmentedColormap.from_list('custom_colormap', cmap_colors)\n",
    "\n",
    "fig, ax = plt.subplots()\n",
    "ax.pcolormesh(board, cmap=custom_cmap)\n",
    "ax.invert_yaxis()\n",
    "ax.set_aspect('equal')\n",
    "ax.grid()"
   ]
  },
  {
   "cell_type": "code",
   "execution_count": 172,
   "metadata": {},
   "outputs": [
    {
     "name": "stdout",
     "output_type": "stream",
     "text": [
      "11 11\n"
     ]
    }
   ],
   "source": []
  }
 ],
 "metadata": {
  "kernelspec": {
   "display_name": "Python 3",
   "language": "python",
   "name": "python3"
  },
  "language_info": {
   "codemirror_mode": {
    "name": "ipython",
    "version": 3
   },
   "file_extension": ".py",
   "mimetype": "text/x-python",
   "name": "python",
   "nbconvert_exporter": "python",
   "pygments_lexer": "ipython3",
   "version": "3.11.5"
  }
 },
 "nbformat": 4,
 "nbformat_minor": 2
}
